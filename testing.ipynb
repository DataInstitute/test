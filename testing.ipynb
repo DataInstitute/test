{
    "nbformat_minor": 1, 
    "cells": [
        {
            "source": "This is a page designed to test whether this Jupyter notebook is installed and working properly.\n\nIf you see a \"Run\" button / menu above, press it.\n\nThe cell below should display numbers 0 to 10.", 
            "cell_type": "markdown", 
            "metadata": {
                "collapsed": true
            }
        }, 
        {
            "source": "count = 0\nwhile count!=11:\n    print(count)\n    count=count+1;", 
            "cell_type": "code", 
            "metadata": {}, 
            "outputs": [], 
            "execution_count": null
        }
    ], 
    "metadata": {
        "kernelspec": {
            "display_name": "Python 3.5", 
            "name": "python3", 
            "language": "python"
        }, 
        "language_info": {
            "mimetype": "text/x-python", 
            "nbconvert_exporter": "python", 
            "version": "3.5.4", 
            "name": "python", 
            "pygments_lexer": "ipython3", 
            "file_extension": ".py", 
            "codemirror_mode": {
                "version": 3, 
                "name": "ipython"
            }
        }
    }, 
    "nbformat": 4
}